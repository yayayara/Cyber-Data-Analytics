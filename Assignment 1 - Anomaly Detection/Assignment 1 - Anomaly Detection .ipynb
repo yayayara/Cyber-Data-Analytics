{
 "cells": [
  {
   "cell_type": "markdown",
   "id": "31d2bf54-d0b0-4d28-8758-5075e881926b",
   "metadata": {},
   "source": [
    "# Assignment 1 - Anomaly Detection - Bank Fraud\n",
    "You are given a dataset of bank transactions, some of which have been marked as fraud. It is up to you to train, validate and test an anomaly detection algorithm to automatically detect fraudulent transactions. By working through this notebook you can obtain up to 10 points, which will result in your final grade.\n",
    "\n",
    "## Assignment submission\n",
    "To submit this assignment, you will have to\n",
    "- Submit a prediction for the `test` dataset to the https://security.eemcs.utwente.nl server.\n",
    "- Upload the final version of your notebook (including the outputs) to Canvas.\n",
    "\n",
    "### Server submission\n",
    "On the https://security.eemcs.utwente.nl server, you will need to register an account if you haven't done so already. If you run into issues with registering an account, please contact the teacher of the course.\n",
    "\n",
    "Navigate to `Challenges` -> `Cyber Data Analytics` -> `Assignment 1 - Anomaly Detection`. Here you can start the docker conainer that will spin up the server that is required to answer question 10 of this assignment.\n",
    "\n",
    "## Libraries\n",
    "You will need the following Python libraries for this assignment:\n",
    "- [matplotlib](https://matplotlib.org/)\n",
    "- [numpy](https://numpy.org)\n",
    "- [pandas](https://pandas.pydata.org/)\n",
    "- [scikit-learn](https://scikit-learn.org/stable/index.html)"
   ]
  },
  {
   "cell_type": "code",
   "execution_count": 2,
   "id": "4dee6cc6-535b-48e2-a311-5e85802614d9",
   "metadata": {},
   "outputs": [
    {
     "name": "stdout",
     "output_type": "stream",
     "text": [
      "\u001b[1;31merror\u001b[0m: \u001b[1mexternally-managed-environment\u001b[0m\n",
      "\n",
      "\u001b[31m×\u001b[0m This environment is externally managed\n",
      "\u001b[31m╰─>\u001b[0m To install Python packages system-wide, try brew install\n",
      "\u001b[31m   \u001b[0m xyz, where xyz is the package you are trying to\n",
      "\u001b[31m   \u001b[0m install.\n",
      "\u001b[31m   \u001b[0m \n",
      "\u001b[31m   \u001b[0m If you wish to install a Python library that isn't in Homebrew,\n",
      "\u001b[31m   \u001b[0m use a virtual environment:\n",
      "\u001b[31m   \u001b[0m \n",
      "\u001b[31m   \u001b[0m python3 -m venv path/to/venv\n",
      "\u001b[31m   \u001b[0m source path/to/venv/bin/activate\n",
      "\u001b[31m   \u001b[0m python3 -m pip install xyz\n",
      "\u001b[31m   \u001b[0m \n",
      "\u001b[31m   \u001b[0m If you wish to install a Python application that isn't in Homebrew,\n",
      "\u001b[31m   \u001b[0m it may be easiest to use 'pipx install xyz', which will manage a\n",
      "\u001b[31m   \u001b[0m virtual environment for you. You can install pipx with\n",
      "\u001b[31m   \u001b[0m \n",
      "\u001b[31m   \u001b[0m brew install pipx\n",
      "\u001b[31m   \u001b[0m \n",
      "\u001b[31m   \u001b[0m You may restore the old behavior of pip by passing\n",
      "\u001b[31m   \u001b[0m the '--break-system-packages' flag to pip, or by adding\n",
      "\u001b[31m   \u001b[0m 'break-system-packages = true' to your pip.conf file. The latter\n",
      "\u001b[31m   \u001b[0m will permanently disable this error.\n",
      "\u001b[31m   \u001b[0m \n",
      "\u001b[31m   \u001b[0m If you disable this error, we STRONGLY recommend that you additionally\n",
      "\u001b[31m   \u001b[0m pass the '--user' flag to pip, or set 'user = true' in your pip.conf\n",
      "\u001b[31m   \u001b[0m file. Failure to do this can result in a broken Homebrew installation.\n",
      "\u001b[31m   \u001b[0m \n",
      "\u001b[31m   \u001b[0m Read more about this behavior here: <https://peps.python.org/pep-0668/>\n",
      "\n",
      "\u001b[1;35mnote\u001b[0m: If you believe this is a mistake, please contact your Python installation or OS distribution provider. You can override this, at the risk of breaking your Python installation or OS, by passing --break-system-packages.\n",
      "\u001b[1;36mhint\u001b[0m: See PEP 668 for the detailed specification.\n"
     ]
    }
   ],
   "source": [
    "# This installs the mentioned libraries using pip, on some systems pip3 should be replaced by pip\n",
    "!pip3 install matplotlib numpy pandas scikit-learn"
   ]
  },
  {
   "cell_type": "raw",
   "id": "1d6656b7-047b-4cce-b307-a1d892e0e056",
   "metadata": {},
   "source": [
    "# Please provide your name and student number\n",
    "Yara van Schendel - s3309037\n",
    "John Doe - s0000000"
   ]
  },
  {
   "cell_type": "markdown",
   "id": "fa47714d-688d-4f14-874a-bb4e1cd1a8d0",
   "metadata": {},
   "source": [
    "## Load the data\n",
    "**Question 1. [0.5pts]** Load the train and test data from `data/train.csv` and `data/test.csv` into a pandas dataframe."
   ]
  },
  {
   "cell_type": "code",
   "execution_count": 3,
   "id": "5b610f6b-b209-48bf-8124-2f602125eff8",
   "metadata": {},
   "outputs": [],
   "source": [
    "# Imports\n",
    "import matplotlib.pyplot as plt\n",
    "import numpy as np\n",
    "import pandas as pd\n",
    "\n",
    "# Load data\n",
    "dataTrain = pd.read_csv(\"data/train.csv\")\n",
    "\n",
    "# Load data\n",
    "dataTest = pd.read_csv(\"data/test.csv\")"
   ]
  },
  {
   "cell_type": "code",
   "execution_count": 4,
   "metadata": {},
   "outputs": [
    {
     "data": {
      "text/html": [
       "<div>\n",
       "<style scoped>\n",
       "    .dataframe tbody tr th:only-of-type {\n",
       "        vertical-align: middle;\n",
       "    }\n",
       "\n",
       "    .dataframe tbody tr th {\n",
       "        vertical-align: top;\n",
       "    }\n",
       "\n",
       "    .dataframe thead th {\n",
       "        text-align: right;\n",
       "    }\n",
       "</style>\n",
       "<table border=\"1\" class=\"dataframe\">\n",
       "  <thead>\n",
       "    <tr style=\"text-align: right;\">\n",
       "      <th></th>\n",
       "      <th>Id</th>\n",
       "      <th>issuercountrycode</th>\n",
       "      <th>txvariantcode</th>\n",
       "      <th>bin</th>\n",
       "      <th>amount</th>\n",
       "      <th>currencycode</th>\n",
       "      <th>shoppercountrycode</th>\n",
       "      <th>shopperinteraction</th>\n",
       "      <th>cardverificationcodesupplied</th>\n",
       "      <th>cvcresponsecode</th>\n",
       "      <th>accountcode</th>\n",
       "      <th>mail_id</th>\n",
       "      <th>ip_id</th>\n",
       "      <th>card_id</th>\n",
       "      <th>label</th>\n",
       "    </tr>\n",
       "  </thead>\n",
       "  <tbody>\n",
       "    <tr>\n",
       "      <th>0</th>\n",
       "      <td>103901</td>\n",
       "      <td>AU</td>\n",
       "      <td>mccredit</td>\n",
       "      <td>517969.0</td>\n",
       "      <td>1000.0</td>\n",
       "      <td>AUD</td>\n",
       "      <td>AU</td>\n",
       "      <td>Ecommerce</td>\n",
       "      <td>True</td>\n",
       "      <td>0</td>\n",
       "      <td>APACAccount</td>\n",
       "      <td>email21099</td>\n",
       "      <td>ip31260</td>\n",
       "      <td>card182682</td>\n",
       "      <td>1</td>\n",
       "    </tr>\n",
       "    <tr>\n",
       "      <th>1</th>\n",
       "      <td>210427</td>\n",
       "      <td>GB</td>\n",
       "      <td>visadebit</td>\n",
       "      <td>465944.0</td>\n",
       "      <td>4815.0</td>\n",
       "      <td>GBP</td>\n",
       "      <td>GB</td>\n",
       "      <td>Ecommerce</td>\n",
       "      <td>True</td>\n",
       "      <td>1</td>\n",
       "      <td>UKAccount</td>\n",
       "      <td>email52090</td>\n",
       "      <td>ip314584</td>\n",
       "      <td>card151253</td>\n",
       "      <td>1</td>\n",
       "    </tr>\n",
       "    <tr>\n",
       "      <th>2</th>\n",
       "      <td>112529</td>\n",
       "      <td>GB</td>\n",
       "      <td>visadebit</td>\n",
       "      <td>454313.0</td>\n",
       "      <td>14495.0</td>\n",
       "      <td>GBP</td>\n",
       "      <td>GB</td>\n",
       "      <td>Ecommerce</td>\n",
       "      <td>True</td>\n",
       "      <td>1</td>\n",
       "      <td>UKAccount</td>\n",
       "      <td>email207206</td>\n",
       "      <td>ip51528</td>\n",
       "      <td>card47990</td>\n",
       "      <td>1</td>\n",
       "    </tr>\n",
       "    <tr>\n",
       "      <th>3</th>\n",
       "      <td>208878</td>\n",
       "      <td>AU</td>\n",
       "      <td>mccredit</td>\n",
       "      <td>516361.0</td>\n",
       "      <td>11000.0</td>\n",
       "      <td>AUD</td>\n",
       "      <td>AU</td>\n",
       "      <td>Ecommerce</td>\n",
       "      <td>True</td>\n",
       "      <td>0</td>\n",
       "      <td>APACAccount</td>\n",
       "      <td>email284873</td>\n",
       "      <td>ip114386</td>\n",
       "      <td>card95641</td>\n",
       "      <td>1</td>\n",
       "    </tr>\n",
       "    <tr>\n",
       "      <th>4</th>\n",
       "      <td>28936</td>\n",
       "      <td>GB</td>\n",
       "      <td>mccredit</td>\n",
       "      <td>542011.0</td>\n",
       "      <td>6090.0</td>\n",
       "      <td>GBP</td>\n",
       "      <td>GB</td>\n",
       "      <td>Ecommerce</td>\n",
       "      <td>True</td>\n",
       "      <td>1</td>\n",
       "      <td>UKAccount</td>\n",
       "      <td>email280026</td>\n",
       "      <td>ip324201</td>\n",
       "      <td>card74707</td>\n",
       "      <td>1</td>\n",
       "    </tr>\n",
       "    <tr>\n",
       "      <th>...</th>\n",
       "      <td>...</td>\n",
       "      <td>...</td>\n",
       "      <td>...</td>\n",
       "      <td>...</td>\n",
       "      <td>...</td>\n",
       "      <td>...</td>\n",
       "      <td>...</td>\n",
       "      <td>...</td>\n",
       "      <td>...</td>\n",
       "      <td>...</td>\n",
       "      <td>...</td>\n",
       "      <td>...</td>\n",
       "      <td>...</td>\n",
       "      <td>...</td>\n",
       "      <td>...</td>\n",
       "    </tr>\n",
       "    <tr>\n",
       "      <th>132651</th>\n",
       "      <td>213663</td>\n",
       "      <td>MX</td>\n",
       "      <td>visaclassic</td>\n",
       "      <td>420199.0</td>\n",
       "      <td>189900.0</td>\n",
       "      <td>MXN</td>\n",
       "      <td>MX</td>\n",
       "      <td>Ecommerce</td>\n",
       "      <td>True</td>\n",
       "      <td>0</td>\n",
       "      <td>MexicoAccount</td>\n",
       "      <td>email85714</td>\n",
       "      <td>ip84052</td>\n",
       "      <td>card195152</td>\n",
       "      <td>-1</td>\n",
       "    </tr>\n",
       "    <tr>\n",
       "      <th>132652</th>\n",
       "      <td>34983</td>\n",
       "      <td>MX</td>\n",
       "      <td>visagold</td>\n",
       "      <td>493173.0</td>\n",
       "      <td>119900.0</td>\n",
       "      <td>MXN</td>\n",
       "      <td>MX</td>\n",
       "      <td>Ecommerce</td>\n",
       "      <td>True</td>\n",
       "      <td>0</td>\n",
       "      <td>MexicoAccount</td>\n",
       "      <td>email92697</td>\n",
       "      <td>ip76878</td>\n",
       "      <td>card264612</td>\n",
       "      <td>-1</td>\n",
       "    </tr>\n",
       "    <tr>\n",
       "      <th>132653</th>\n",
       "      <td>104804</td>\n",
       "      <td>AU</td>\n",
       "      <td>visabusiness</td>\n",
       "      <td>456480.0</td>\n",
       "      <td>54000.0</td>\n",
       "      <td>AUD</td>\n",
       "      <td>AU</td>\n",
       "      <td>Ecommerce</td>\n",
       "      <td>True</td>\n",
       "      <td>0</td>\n",
       "      <td>APACAccount</td>\n",
       "      <td>email68683</td>\n",
       "      <td>ip114901</td>\n",
       "      <td>card214574</td>\n",
       "      <td>-1</td>\n",
       "    </tr>\n",
       "    <tr>\n",
       "      <th>132654</th>\n",
       "      <td>60748</td>\n",
       "      <td>MX</td>\n",
       "      <td>visaclassic</td>\n",
       "      <td>477291.0</td>\n",
       "      <td>329900.0</td>\n",
       "      <td>MXN</td>\n",
       "      <td>MX</td>\n",
       "      <td>Ecommerce</td>\n",
       "      <td>True</td>\n",
       "      <td>0</td>\n",
       "      <td>MexicoAccount</td>\n",
       "      <td>email55291</td>\n",
       "      <td>ip68304</td>\n",
       "      <td>card37090</td>\n",
       "      <td>-1</td>\n",
       "    </tr>\n",
       "    <tr>\n",
       "      <th>132655</th>\n",
       "      <td>42623</td>\n",
       "      <td>MX</td>\n",
       "      <td>visaclassic</td>\n",
       "      <td>405306.0</td>\n",
       "      <td>29900.0</td>\n",
       "      <td>MXN</td>\n",
       "      <td>MX</td>\n",
       "      <td>Ecommerce</td>\n",
       "      <td>True</td>\n",
       "      <td>0</td>\n",
       "      <td>MexicoAccount</td>\n",
       "      <td>email53604</td>\n",
       "      <td>ip6330</td>\n",
       "      <td>card184406</td>\n",
       "      <td>-1</td>\n",
       "    </tr>\n",
       "  </tbody>\n",
       "</table>\n",
       "<p>132656 rows × 15 columns</p>\n",
       "</div>"
      ],
      "text/plain": [
       "            Id issuercountrycode txvariantcode       bin    amount  \\\n",
       "0       103901                AU      mccredit  517969.0    1000.0   \n",
       "1       210427                GB     visadebit  465944.0    4815.0   \n",
       "2       112529                GB     visadebit  454313.0   14495.0   \n",
       "3       208878                AU      mccredit  516361.0   11000.0   \n",
       "4        28936                GB      mccredit  542011.0    6090.0   \n",
       "...        ...               ...           ...       ...       ...   \n",
       "132651  213663                MX   visaclassic  420199.0  189900.0   \n",
       "132652   34983                MX      visagold  493173.0  119900.0   \n",
       "132653  104804                AU  visabusiness  456480.0   54000.0   \n",
       "132654   60748                MX   visaclassic  477291.0  329900.0   \n",
       "132655   42623                MX   visaclassic  405306.0   29900.0   \n",
       "\n",
       "       currencycode shoppercountrycode shopperinteraction  \\\n",
       "0               AUD                 AU          Ecommerce   \n",
       "1               GBP                 GB          Ecommerce   \n",
       "2               GBP                 GB          Ecommerce   \n",
       "3               AUD                 AU          Ecommerce   \n",
       "4               GBP                 GB          Ecommerce   \n",
       "...             ...                ...                ...   \n",
       "132651          MXN                 MX          Ecommerce   \n",
       "132652          MXN                 MX          Ecommerce   \n",
       "132653          AUD                 AU          Ecommerce   \n",
       "132654          MXN                 MX          Ecommerce   \n",
       "132655          MXN                 MX          Ecommerce   \n",
       "\n",
       "       cardverificationcodesupplied  cvcresponsecode    accountcode  \\\n",
       "0                              True                0    APACAccount   \n",
       "1                              True                1      UKAccount   \n",
       "2                              True                1      UKAccount   \n",
       "3                              True                0    APACAccount   \n",
       "4                              True                1      UKAccount   \n",
       "...                             ...              ...            ...   \n",
       "132651                         True                0  MexicoAccount   \n",
       "132652                         True                0  MexicoAccount   \n",
       "132653                         True                0    APACAccount   \n",
       "132654                         True                0  MexicoAccount   \n",
       "132655                         True                0  MexicoAccount   \n",
       "\n",
       "            mail_id     ip_id     card_id  label  \n",
       "0        email21099   ip31260  card182682      1  \n",
       "1        email52090  ip314584  card151253      1  \n",
       "2       email207206   ip51528   card47990      1  \n",
       "3       email284873  ip114386   card95641      1  \n",
       "4       email280026  ip324201   card74707      1  \n",
       "...             ...       ...         ...    ...  \n",
       "132651   email85714   ip84052  card195152     -1  \n",
       "132652   email92697   ip76878  card264612     -1  \n",
       "132653   email68683  ip114901  card214574     -1  \n",
       "132654   email55291   ip68304   card37090     -1  \n",
       "132655   email53604    ip6330  card184406     -1  \n",
       "\n",
       "[132656 rows x 15 columns]"
      ]
     },
     "execution_count": 4,
     "metadata": {},
     "output_type": "execute_result"
    }
   ],
   "source": [
    "dataTrain"
   ]
  },
  {
   "cell_type": "markdown",
   "id": "35dacd13-ac01-4e1f-8a95-b790b43bbd71",
   "metadata": {},
   "source": [
    "## Data exploration\n",
    "**Question 2. [1pt]** If you look carefully, some of the items in the dataset are missing or null. In these cases you can do two things:\n",
    "1. Values can be replaced by dummy data. Here you have to take into account the difference between numerical and catagorical data. This also alters the dataset, making it potentially more difficult to train an algorithm.\n",
    "2. Samples containing missing values can be removed from the data. This gives you less information to train on, moreover you can never remove samples from a test dataset as this would skew your results.\n",
    "\n",
    "Choose and implement a way to deal with missing data in both the train and test dataset."
   ]
  },
  {
   "cell_type": "code",
   "execution_count": 5,
   "id": "e4dc364f-244f-48fd-8c2a-c38a7380f072",
   "metadata": {},
   "outputs": [],
   "source": [
    "# The teacher says that replacing values by dummy data is more preferably\n",
    "# and then checking the data by yourself to see if the values makes sense.\n",
    "\n",
    "# Check if there is any null value in the dataset\n",
    "# print(dataTest[dataTest['issuercountrycode'].isna()])\n",
    "\n",
    "\n",
    "# I want to change the NaN values in 'issuercountrycode' by their 'shoppercountrycode', because those values are mostly the same throughout the dataset\n",
    "dataTrain['issuercountrycode'].fillna(dataTrain['shoppercountrycode'], inplace=True)\n",
    "dataTrain['shoppercountrycode'].fillna(dataTrain['issuercountrycode'], inplace=True)\n",
    "dataTrain['cardverificationcodesupplied'].ffill(inplace=True) # or notnull()\n",
    "\n",
    "dataTest['issuercountrycode'].fillna(dataTest['shoppercountrycode'], inplace=True)\n",
    "dataTest['shoppercountrycode'].fillna(dataTest['issuercountrycode'], inplace=True)\n",
    "dataTest['cardverificationcodesupplied'].ffill(inplace=True) # or notnull()"
   ]
  },
  {
   "cell_type": "markdown",
   "id": "4b953392-0498-40ee-92b8-42b521761d5d",
   "metadata": {},
   "source": [
    "Explore the features (columns) and values of the provided data to get a feeling for the data. Identify which features are numerical, and which are catagorical. \n",
    "\n",
    "**Question 3. [1pt]** Create a histogram for one numerical feature and a bar plot for one catagorical feature for the training set to compare the difference between normal and anomalous traffic. You can use these plots to visualise which features may be needed to perform anomaly detection."
   ]
  },
  {
   "cell_type": "code",
   "execution_count": 6,
   "id": "20358553-f934-4857-b5b9-39fafb2bba65",
   "metadata": {},
   "outputs": [
    {
     "data": {
      "image/png": "[encoded data removed]",
      "text/plain": [
       "<Figure size 640x480 with 1 Axes>"
      ]
     },
     "metadata": {},
     "output_type": "display_data"
    },
    {
     "data": {
      "image/png": "[encoded data removed]",
      "text/plain": [
       "<Figure size 640x480 with 1 Axes>"
      ]
     },
     "metadata": {},
     "output_type": "display_data"
    }
   ],
   "source": [
    "# I'm thinking for the histogram to plot the amount and for the bar plot the isusercountrycode\n",
    "# Bin is Bank Identification Number\n",
    "# but we can try every different value to see which is more valueble. \n",
    "# AccountCode and Amount is one I've heard around me\n",
    "\n",
    "# Plotting Histogram for the 'Account' column \n",
    "hist = dataTrain['amount'].hist(bins=25) \n",
    "\n",
    "# Annotate the values on the bars\n",
    "for p in hist.patches:\n",
    "    plt.annotate(str(int(p.get_height())), (p.get_x() + p.get_width() / 2., p.get_height()), ha='center', va='center', xytext=(0, 5), textcoords='offset points')\n",
    "\n",
    "  \n",
    "# Adding title and labels \n",
    "plt.title('Histogram for Amount Column') \n",
    "plt.xlabel('Amount') \n",
    "plt.ylabel('Frequency') \n",
    "  \n",
    "# Display the histogram \n",
    "plt.show() \n",
    "\n",
    "bar = dataTrain['accountcode'].value_counts().plot(kind='bar', title='Bar Plot for Account Code column', xlabel='AccountCode', ylabel='Count', rot=0, color=['blue', 'red', 'orange', 'green'])\n",
    "# Annotate the values on the bars\n",
    "for p in bar.patches:\n",
    "    bar.annotate(str(p.get_height()), (p.get_x() + p.get_width() / 2., p.get_height()), ha='center', va='center', xytext=(0, 5), textcoords='offset points')\n",
    "\n",
    "# Show the plot\n",
    "plt.show()"
   ]
  },
  {
   "cell_type": "markdown",
   "id": "8c391ab3-4dd9-4c86-a665-98b4306b2a8f",
   "metadata": {},
   "source": [
    "## Feature selection\n",
    "Look at the features in the dataset, which features do you think are useful? Which features will definitely not be useful? Which features are you not sure of? \n",
    "\n",
    "At the very least, we cannot use the `label` as a feature, as this would immediately reveal which samples are anomalous. Moreover, this feature is missing in the `test` dataset, meaning that we could not use it in the first place. Therefore, we will split the data (often refered to in code as `X`) and label (often refered to in code as `y`).\n",
    "\n",
    "**Question 4a. [0.5pts]** Split the datasets into the training data (`X_train`), training label (`y_train`) and test data (`X_test`).\n",
    "\n",
    "**Question 4b. [0pts]** Next, remove the features in both the train and test data for which you are sure they will not be useful. Keep all other features. If you think all features are important, you can skip this part. Make sure you keep at least 1 catagorical feature for the next question."
   ]
  },
  {
   "cell_type": "code",
   "execution_count": 9,
   "id": "1e1a7285-84fb-4a8a-8307-6ea55cc02ad4",
   "metadata": {},
   "outputs": [
    {
     "ename": "ValueError",
     "evalue": "too many values to unpack (expected 3)",
     "output_type": "error",
     "traceback": [
      "\u001b[0;31m---------------------------------------------------------------------------\u001b[0m",
      "\u001b[0;31mValueError\u001b[0m                                Traceback (most recent call last)",
      "\u001b[1;32m/Users/yara/Documents/UTWENTE/Master/Cyber Data Analytics/Cyber-Data-Analytics/Assignment 1 - Anomaly Detection/Assignment 1 - Anomaly Detection .ipynb Cell 12\u001b[0m line \u001b[0;36m1\n\u001b[1;32m      <a href='vscode-notebook-cell:/Users/yara/Documents/UTWENTE/Master/Cyber%20Data%20Analytics/Cyber-Data-Analytics/Assignment%201%20-%20Anomaly%20Detection/Assignment%201%20-%20Anomaly%20Detection%20.ipynb#X14sZmlsZQ%3D%3D?line=8'>9</a>\u001b[0m X \u001b[39m=\u001b[39m dataTrain\u001b[39m.\u001b[39mdrop(columns\u001b[39m=\u001b[39m[\u001b[39m'\u001b[39m\u001b[39mlabel\u001b[39m\u001b[39m'\u001b[39m])\n\u001b[1;32m     <a href='vscode-notebook-cell:/Users/yara/Documents/UTWENTE/Master/Cyber%20Data%20Analytics/Cyber-Data-Analytics/Assignment%201%20-%20Anomaly%20Detection/Assignment%201%20-%20Anomaly%20Detection%20.ipynb#X14sZmlsZQ%3D%3D?line=9'>10</a>\u001b[0m y \u001b[39m=\u001b[39m dataTrain[\u001b[39m'\u001b[39m\u001b[39mlabel\u001b[39m\u001b[39m'\u001b[39m]\n\u001b[0;32m---> <a href='vscode-notebook-cell:/Users/yara/Documents/UTWENTE/Master/Cyber%20Data%20Analytics/Cyber-Data-Analytics/Assignment%201%20-%20Anomaly%20Detection/Assignment%201%20-%20Anomaly%20Detection%20.ipynb#X14sZmlsZQ%3D%3D?line=11'>12</a>\u001b[0m X_train, X_test, y_train \u001b[39m=\u001b[39m train_test_split(X, y)\n",
      "\u001b[0;31mValueError\u001b[0m: too many values to unpack (expected 3)"
     ]
    }
   ],
   "source": [
    "# Import\n",
    "from sklearn.model_selection import train_test_split\n",
    "\n",
    "# The BIN I think is not important, so we remove those.\n",
    "dataTrain.drop(columns=['bin'])\n",
    "dataTest.drop(columns=['bin'])\n",
    "\n",
    "# Split the dataset into training data, training label and test data\n",
    "X = dataTrain.drop(columns=['label'])\n",
    "y = dataTrain['label']\n",
    "\n",
    "X_train, X_test = train_test_split(X, test_size=0.2, random_state=42)\n"
   ]
  },
  {
   "cell_type": "markdown",
   "id": "e29b08d6-25a2-4655-afbd-d62994215322",
   "metadata": {},
   "source": [
    "## One-hot encoding\n",
    "**Question 5a. [1pt]** One-hot encode the remaining catagorical features and replace the original values with their one-hot encoded counterparts."
   ]
  },
  {
   "cell_type": "code",
   "execution_count": null,
   "id": "e9306bd1-4a73-4a2c-a51d-13cbb3cdcd08",
   "metadata": {},
   "outputs": [],
   "source": [
    "# geen scikit learn/ use pandas"
   ]
  },
  {
   "cell_type": "markdown",
   "id": "9a660637-dea8-496d-bd16-7ec18a60b9e6",
   "metadata": {},
   "source": [
    "**Question 5b. [0pts]** If you haven't done so already, transform your `X_train`, `y_train` and `X_test` data, including the one-hot-encoded values into numpy arrays where the rows represent the samples, and the columns represent the features."
   ]
  },
  {
   "cell_type": "code",
   "execution_count": null,
   "id": "fd26d021-818f-4a71-be91-269206aee300",
   "metadata": {},
   "outputs": [],
   "source": []
  },
  {
   "cell_type": "markdown",
   "id": "481b172b-940c-42b9-baa4-73d2f34caa00",
   "metadata": {},
   "source": [
    "## Feature scaling\n",
    "Use the following function to plot the features before and after scaling (see next question). You can observe that scaling improves separation between values, making it easier to find anomalies.\n",
    "\n",
    "**Note:** Because PCA is used to downscale features to two dimensions, some information will be lost. This means that in some cases, overlapping datapoints may still be distinguished in their original form."
   ]
  },
  {
   "cell_type": "code",
   "execution_count": null,
   "id": "e1feae3f-bc3d-4874-9f79-f193a14a6402",
   "metadata": {},
   "outputs": [],
   "source": [
    "from sklearn.decomposition import PCA\n",
    "\n",
    "def plot_pca(X, y):\n",
    "    # Reduce features to two dimensions\n",
    "    X = PCA(2).fit_transform(X)\n",
    "    # Scatter features\n",
    "    plt.scatter(X[:, 0][y ==  1], X[:, 1][y ==  1])\n",
    "    plt.scatter(X[:, 0][y == -1], X[:, 1][y == -1])\n",
    "    plt.show()\n",
    "\n",
    "plot_pca(X_train, y_train)"
   ]
  },
  {
   "cell_type": "markdown",
   "id": "455bea37-a7e5-4dce-adc4-d79adf9602da",
   "metadata": {},
   "source": [
    "**Question 6. [1pt]** Scale the given features from 0-1 using Min-Max Scaling."
   ]
  },
  {
   "cell_type": "code",
   "execution_count": null,
   "id": "95cf355b-ab6c-4ff8-aae6-5b20e8801b44",
   "metadata": {},
   "outputs": [],
   "source": []
  },
  {
   "cell_type": "markdown",
   "id": "96da5acc-4d51-4e88-bc09-0fe95f70b338",
   "metadata": {},
   "source": [
    "Use the `plot_pca()` function to plot the newly scaled features. Do the datapoints seem easier to separate?\n",
    "\n",
    "**Note:** Because PCA is used to downscale features to two dimensions, some information will be lost. This means that in some cases, overlapping datapoints may still be distinguished in their original form."
   ]
  },
  {
   "cell_type": "code",
   "execution_count": null,
   "id": "4859e3eb-eee2-4242-b1e2-7b47df9dcba4",
   "metadata": {},
   "outputs": [],
   "source": [
    "plot_pca(X_train, y_train)"
   ]
  },
  {
   "cell_type": "markdown",
   "id": "7fe60faf-d068-47ca-b6ea-4e902132d798",
   "metadata": {},
   "source": [
    "## Train-test-validate split\n",
    "The data is already split into a train and test set. However, the test set does not contain any labels. Therefore, to measure the expected performance, we can subdivide the training set into a training (`X_train`, `y_train`) and validation set (`X_validate`, `y_validate`).\n",
    "\n",
    "**Question 7. [1pt]** Split the training data into a train and validation set."
   ]
  },
  {
   "cell_type": "code",
   "execution_count": null,
   "id": "8ef35a3e-6f08-4498-a61e-0d9597db3751",
   "metadata": {},
   "outputs": [],
   "source": []
  },
  {
   "cell_type": "markdown",
   "id": "b85e14de-e40f-49e2-ae00-d45c74ec9978",
   "metadata": {},
   "source": [
    "## Anomaly detection\n",
    "Now that we have preprocessed and split the dataset, we can train an anomaly detection algorithm.\n",
    "\n",
    "**Question 8 [1pt].** Choose an anomaly detection algorithm, fit it with the training data and use it to predict the validation data."
   ]
  },
  {
   "cell_type": "code",
   "execution_count": null,
   "id": "071023c8-fd02-4422-b243-1c918b2a1f88",
   "metadata": {},
   "outputs": [],
   "source": []
  },
  {
   "cell_type": "markdown",
   "id": "dd87f0a3-1207-49b3-b99a-5539030d713d",
   "metadata": {},
   "source": [
    "## Evaluate\n",
    "**Question 9 [1pt].** Evaluate your model. Compute the precision, recall and F1-score to see how well it performs."
   ]
  },
  {
   "cell_type": "code",
   "execution_count": null,
   "id": "2f3e9853-d738-4c63-8308-bc15d51ef937",
   "metadata": {},
   "outputs": [],
   "source": []
  },
  {
   "cell_type": "markdown",
   "id": "dd765caa-bac9-4322-83e1-dbc6e0ede787",
   "metadata": {},
   "source": [
    "## Optimization(Optional)\n",
    "Go back and optimize your feature selection, anomaly detection approach, play around with different model parameters or perform other changes to obtain a better performance."
   ]
  },
  {
   "cell_type": "markdown",
   "id": "a9b78558-7349-41ae-832a-35447151c762",
   "metadata": {},
   "source": [
    "## Testing\n",
    "**Question 10. [2pts]**\n",
    "Test your model by predicting the values for the test dataset and submitting them to the server for review. You can start the server at https://security.eemcs.utwente.nl > `Challenges` > `Cyber Data Analytics` > `Assignment 1 - Anomaly Detection`. Use the address of the docker container as `http://<address>` for the `url` parameter in the submit function.\n",
    "\n",
    "You can obtain a grade of 8 by completing the first 9 questions of the notebook, if you wish to improve your grade further, we use the following requirements:\n",
    "\n",
    "| Requirement                                          | Reward      |\n",
    "|------------------------------------------------------|-------------|\n",
    "| anomalous (-1) precision > 0.3                       | +0.5 points |\n",
    "| anomalous (-1) recall > 0.9                          | +0.5 points |\n",
    "| macro avg precision > 0.5                            | +0.5 points |\n",
    "| macro avg recall > 0.8                               | +0.5 points |\n",
    "| macro avg precision > 0.5 and macro avg recall > 0.8 | Flag        |\n",
    "\n",
    "**Note:** The server is rate-limited and may take a few seconds to process your request."
   ]
  },
  {
   "cell_type": "code",
   "execution_count": null,
   "id": "4e44a0e7-eceb-485f-b12e-e98b1d84d48e",
   "metadata": {},
   "outputs": [],
   "source": [
    "import requests\n",
    "\n",
    "def submit(url: str, y_pred: list[int]):\n",
    "    print(requests.post(url, json={'y_pred': y_pred.tolist()}).text)\n",
    "\n",
    "# Change the <port> with the value you receive after starting the docker container at security.eemcs.utwente.nl\n",
    "submit(\n",
    "    url = 'http://security.eemcs.utwente.nl:<port>',\n",
    "    y_pred = model.predict(X_test),\n",
    ")"
   ]
  },
  {
   "cell_type": "markdown",
   "id": "ca55bbc1-096d-49bf-b591-2d73447ff444",
   "metadata": {},
   "source": [
    "# Submission\n",
    "Upload the final version of the notebook, **including the output showing your Testing performance** to Canvas."
   ]
  }
 ],
 "metadata": {
  "kernelspec": {
   "display_name": "Python 3 (ipykernel)",
   "language": "python",
   "name": "python3"
  },
  "language_info": {
   "codemirror_mode": {
    "name": "ipython",
    "version": 3
   },
   "file_extension": ".py",
   "mimetype": "text/x-python",
   "name": "python",
   "nbconvert_exporter": "python",
   "pygments_lexer": "ipython3",
   "version": "3.12.0"
  }
 },
 "nbformat": 4,
 "nbformat_minor": 5
}
